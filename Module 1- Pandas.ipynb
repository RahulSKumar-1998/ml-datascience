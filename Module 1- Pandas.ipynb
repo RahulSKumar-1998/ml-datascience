{
 "cells": [
  {
   "cell_type": "markdown",
   "metadata": {},
   "source": [
    "### Query 1.1 \n",
    "Import the csv file of the stock of your choosing using 'pd.read_csv()' function into a dataframe.\n",
    "Shares of a company can be offered in more than one category. The category of a stock is indicated in the ‘Series’ column. If the csv file has data on more than one category, the ‘Date’ column will have repeating values. To avoid repetitions in the date, remove all the rows where 'Series' column is NOT 'EQ'.\n",
    "Analyze and understand each column properly.\n",
    "You'd find the head(), tail() and describe() functions to be immensely useful for exploration. You're free to carry out any other exploration of your own."
   ]
  },
  {
   "cell_type": "code",
   "execution_count": 1,
   "metadata": {},
   "outputs": [],
   "source": [
    "import numpy as np\n",
    "import matplotlib.pyplot as plt\n",
    "import pandas as pd\n",
    "dataset = pd.read_csv('INFY.csv')"
   ]
  },
  {
   "cell_type": "markdown",
   "metadata": {},
   "source": [
    "### Query 1.2\n",
    "Calculate the maximum, minimum and mean price for the last 90 days. (price=Closing Price unless stated otherwise)"
   ]
  },
  {
   "cell_type": "code",
   "execution_count": 21,
   "metadata": {},
   "outputs": [
    {
     "data": {
      "text/plain": [
       "658.95"
      ]
     },
     "execution_count": 21,
     "metadata": {},
     "output_type": "execute_result"
    }
   ],
   "source": [
    "dataset= dataset[dataset.Series == 'EQ']\n",
    "X = dataset.tail(90)\n",
    "# Finding the mean value of the last 90 days of the data \n",
    "X.loc[:,\"Close Price\"].mean()\n",
    "# Finding the maximum value of close price\n",
    "X['Close Price'].max()\n",
    "# Finding the minimum value of close price\n",
    "X['Close Price'].min()\n"
   ]
  },
  {
   "cell_type": "code",
   "execution_count": null,
   "metadata": {},
   "outputs": [],
   "source": [
    "dataset[\"Date\"]= dataset[\"Date\"].astype('datetime64[ns]') \n",
    "dataset.Date.describe()\n",
    "# Subtracting max date and min date\n",
    "dataset[\"Date\"].max() - dataset[\"Date\"].min()\n",
    "# Creating columns of Month & year using date column\n",
    "dataset['year'] = pd.DatetimeIndex(dataset['Date']).year\n",
    "dataset['Month'] = pd.DatetimeIndex(dataset['Date']).month"
   ]
  },
  {
   "cell_type": "code",
   "execution_count": null,
   "metadata": {},
   "outputs": [],
   "source": [
    "group = dataset.groupby(['Month', 'year'])\n",
    "dataset['VWAP'] = (np.cumsum(dataset['Close Price'] * dataset['Total Traded Quantity'])/np.cumsum(dataset['Total Traded Quantity']))\n",
    "# Finding the average close price for the last N days\n",
    "def average_stock(x):\n",
    "    avg = dataset.tail(x)\n",
    "    sum = avg.loc[:,\"Close Price\"].mean() \n",
    "    return sum\n",
    "user_number = input (\"Enter the last N days\")\n",
    "val = int(user_number)\n",
    "print(average_stock(val));"
   ]
  },
  {
   "cell_type": "code",
   "execution_count": null,
   "metadata": {},
   "outputs": [],
   "source": [
    "def pft_loss_per(x):\n",
    "    a = dataset.shape[0] - x\n",
    "    per = ((dataset.get_value(a,\"Close Price\")-dataset.get_value(dataset.shape[0],\"Close Price\"))/(dataset.get_value(a,\"Close Price\"))*100)\n",
    "    return per\n",
    "user_number1 = input (\"Enter the last N days\")\n",
    "val1 = int(user_number1)\n",
    "print(pft_loss_per(val1));"
   ]
  },
  {
   "cell_type": "code",
   "execution_count": null,
   "metadata": {},
   "outputs": [],
   "source": [
    "dataset['Pct_Change'] = (dataset['Close Price'].pct_change())*100\n",
    "dataset = dataset.fillna(0)\n",
    "# Creating trend column\n",
    "def f(row):\n",
    "    if row['Pct_Change']>-0.5 and row['Pct_Change']<0.5:\n",
    "        return \"Slight or No change\"\n",
    "    elif row['Pct_Change']>0.5 and row['Pct_Change']<1.0:\n",
    "        return \"Slight positive\"\n",
    "    elif row['Pct_Change']>-1.0 and row['Pct_Change']<-0.5:\n",
    "        return 'Slight negative'\n",
    "    elif row['Pct_Change']>1 and row['Pct_Change']<3:\n",
    "        return 'Positive'\n",
    "    elif row['Pct_Change']>-3 and row['Pct_Change']<-1:\n",
    "        return 'Negative'\n",
    "    elif row['Pct_Change']>3 and row['Pct_Change']<7:\n",
    "        return 'Among top gainers'\n",
    "    elif row['Pct_Change']>-7 and row['Pct_Change']<-3:\n",
    "        return 'Among top losers'\n",
    "    elif row['Pct_Change']>7:\n",
    "        return 'Bull run'\n",
    "    else:\n",
    "        return 'Bear drop'\n",
    "    \n",
    "dataset['Trend'] = dataset.apply(f, axis=1)\n",
    "# Finding the average and median of total traded quantity\n",
    "group = dataset.groupby(['Trend'])\n",
    "sum1 = dataset.loc[:,\"Total Traded Quantity\"].mean() \n",
    "median = dataset.loc[:,\"Total Traded Quantity\"].median() \n",
    "# Saving dataframe to week2.csv\n",
    "dataset.to_csv('week2.csv') "
   ]
  }
 ],
 "metadata": {
  "kernelspec": {
   "display_name": "Python 3",
   "language": "python",
   "name": "python3"
  },
  "language_info": {
   "codemirror_mode": {
    "name": "ipython",
    "version": 3
   },
   "file_extension": ".py",
   "mimetype": "text/x-python",
   "name": "python",
   "nbconvert_exporter": "python",
   "pygments_lexer": "ipython3",
   "version": "3.7.1"
  }
 },
 "nbformat": 4,
 "nbformat_minor": 2
}
